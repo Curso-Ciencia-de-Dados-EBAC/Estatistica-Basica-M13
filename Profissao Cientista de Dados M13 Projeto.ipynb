{
 "cells": [
  {
   "cell_type": "markdown",
   "metadata": {
    "id": "VOTu7U3Mvxzq"
   },
   "source": [
    "# **MÓDULO 13**\n",
    "# Projeto - Fundamentos da Descoberta de Dados"
   ]
  },
  {
   "cell_type": "markdown",
   "metadata": {
    "id": "-HYgkdAywLd0"
   },
   "source": [
    "Nesse projeto trabalharemos com a base de dados de produtos de um supermercado do Chile.\n",
    "A ideia é que vocês apliquem os conceitos estatísticos vistos no último módulo, mais os conceitos de visualizações de dados através de gráficos e finalizem publicando no seu github!"
   ]
  },
  {
   "cell_type": "code",
   "execution_count": 1,
   "metadata": {
    "id": "OTdTnbzUwE2X"
   },
   "outputs": [],
   "source": [
    "import pandas as pd\n",
    "import matplotlib.pyplot as plt\n",
    "import plotly.express as px"
   ]
  },
  {
   "cell_type": "markdown",
   "metadata": {
    "id": "ky1Dk_KWywEa"
   },
   "source": [
    "Faça a leitura dos dados do arquivo CSV:\n",
    "\n",
    "\n",
    "Altere o código abaixo de acordo com seu diretório."
   ]
  },
  {
   "cell_type": "code",
   "execution_count": 2,
   "metadata": {
    "colab": {
     "base_uri": "https://localhost:8080/",
     "height": 363
    },
    "id": "bRBFyVB5wlny",
    "outputId": "cde5190b-fecf-48f8-e98c-5ec7e469bcfb"
   },
   "outputs": [
    {
     "data": {
      "text/html": [
       "<div>\n",
       "<style scoped>\n",
       "    .dataframe tbody tr th:only-of-type {\n",
       "        vertical-align: middle;\n",
       "    }\n",
       "\n",
       "    .dataframe tbody tr th {\n",
       "        vertical-align: top;\n",
       "    }\n",
       "\n",
       "    .dataframe thead th {\n",
       "        text-align: right;\n",
       "    }\n",
       "</style>\n",
       "<table border=\"1\" class=\"dataframe\">\n",
       "  <thead>\n",
       "    <tr style=\"text-align: right;\">\n",
       "      <th></th>\n",
       "      <th>title</th>\n",
       "      <th>Marca</th>\n",
       "      <th>Preco_Normal</th>\n",
       "      <th>Preco_Desconto</th>\n",
       "      <th>Preco_Anterior</th>\n",
       "      <th>Desconto</th>\n",
       "      <th>Categoria</th>\n",
       "    </tr>\n",
       "  </thead>\n",
       "  <tbody>\n",
       "    <tr>\n",
       "      <th>0</th>\n",
       "      <td>Pack 12 un, Leche extra proteína 1 L</td>\n",
       "      <td>Loncoleche</td>\n",
       "      <td>19788</td>\n",
       "      <td>0</td>\n",
       "      <td>0</td>\n",
       "      <td>0</td>\n",
       "      <td>lacteos</td>\n",
       "    </tr>\n",
       "    <tr>\n",
       "      <th>1</th>\n",
       "      <td>Pack 12 un, Leche chocolate receta original 1 L</td>\n",
       "      <td>Soprole</td>\n",
       "      <td>18228</td>\n",
       "      <td>0</td>\n",
       "      <td>0</td>\n",
       "      <td>0</td>\n",
       "      <td>lacteos</td>\n",
       "    </tr>\n",
       "    <tr>\n",
       "      <th>2</th>\n",
       "      <td>Pack 12 un, Leche semidescremada chocolate 1 L</td>\n",
       "      <td>Soprole</td>\n",
       "      <td>18228</td>\n",
       "      <td>0</td>\n",
       "      <td>0</td>\n",
       "      <td>0</td>\n",
       "      <td>lacteos</td>\n",
       "    </tr>\n",
       "    <tr>\n",
       "      <th>3</th>\n",
       "      <td>Pack 12 un, Leche semidescremada frutilla 1 L</td>\n",
       "      <td>Soprole</td>\n",
       "      <td>18228</td>\n",
       "      <td>0</td>\n",
       "      <td>0</td>\n",
       "      <td>0</td>\n",
       "      <td>lacteos</td>\n",
       "    </tr>\n",
       "    <tr>\n",
       "      <th>4</th>\n",
       "      <td>Pack 12 un, Leche sin lactosa chocolate 1 L</td>\n",
       "      <td>Loncoleche</td>\n",
       "      <td>17988</td>\n",
       "      <td>0</td>\n",
       "      <td>0</td>\n",
       "      <td>0</td>\n",
       "      <td>lacteos</td>\n",
       "    </tr>\n",
       "    <tr>\n",
       "      <th>5</th>\n",
       "      <td>Pack 12 un, Leche sin lactosa frutilla 1 L</td>\n",
       "      <td>Loncoleche</td>\n",
       "      <td>17988</td>\n",
       "      <td>0</td>\n",
       "      <td>0</td>\n",
       "      <td>0</td>\n",
       "      <td>lacteos</td>\n",
       "    </tr>\n",
       "    <tr>\n",
       "      <th>6</th>\n",
       "      <td>Pack 12 un, Leche saborizada light chocolate 1 L</td>\n",
       "      <td>Loncoleche</td>\n",
       "      <td>17988</td>\n",
       "      <td>0</td>\n",
       "      <td>0</td>\n",
       "      <td>0</td>\n",
       "      <td>lacteos</td>\n",
       "    </tr>\n",
       "    <tr>\n",
       "      <th>7</th>\n",
       "      <td>Pack 12 un, Leche saborizada frutilla 1 L</td>\n",
       "      <td>Colun</td>\n",
       "      <td>17388</td>\n",
       "      <td>0</td>\n",
       "      <td>0</td>\n",
       "      <td>0</td>\n",
       "      <td>lacteos</td>\n",
       "    </tr>\n",
       "    <tr>\n",
       "      <th>8</th>\n",
       "      <td>Pack 12 un, Leche saborizada vainilla 1 L</td>\n",
       "      <td>Colun</td>\n",
       "      <td>17388</td>\n",
       "      <td>0</td>\n",
       "      <td>0</td>\n",
       "      <td>0</td>\n",
       "      <td>lacteos</td>\n",
       "    </tr>\n",
       "    <tr>\n",
       "      <th>9</th>\n",
       "      <td>Pack 12 un, Leche saborizada manjar 1 L</td>\n",
       "      <td>Colun</td>\n",
       "      <td>17388</td>\n",
       "      <td>0</td>\n",
       "      <td>0</td>\n",
       "      <td>0</td>\n",
       "      <td>lacteos</td>\n",
       "    </tr>\n",
       "  </tbody>\n",
       "</table>\n",
       "</div>"
      ],
      "text/plain": [
       "                                              title       Marca  Preco_Normal  \\\n",
       "0              Pack 12 un, Leche extra proteína 1 L  Loncoleche         19788   \n",
       "1   Pack 12 un, Leche chocolate receta original 1 L     Soprole         18228   \n",
       "2    Pack 12 un, Leche semidescremada chocolate 1 L     Soprole         18228   \n",
       "3     Pack 12 un, Leche semidescremada frutilla 1 L     Soprole         18228   \n",
       "4       Pack 12 un, Leche sin lactosa chocolate 1 L  Loncoleche         17988   \n",
       "5        Pack 12 un, Leche sin lactosa frutilla 1 L  Loncoleche         17988   \n",
       "6  Pack 12 un, Leche saborizada light chocolate 1 L  Loncoleche         17988   \n",
       "7         Pack 12 un, Leche saborizada frutilla 1 L       Colun         17388   \n",
       "8         Pack 12 un, Leche saborizada vainilla 1 L       Colun         17388   \n",
       "9           Pack 12 un, Leche saborizada manjar 1 L       Colun         17388   \n",
       "\n",
       "   Preco_Desconto  Preco_Anterior  Desconto Categoria  \n",
       "0               0               0         0   lacteos  \n",
       "1               0               0         0   lacteos  \n",
       "2               0               0         0   lacteos  \n",
       "3               0               0         0   lacteos  \n",
       "4               0               0         0   lacteos  \n",
       "5               0               0         0   lacteos  \n",
       "6               0               0         0   lacteos  \n",
       "7               0               0         0   lacteos  \n",
       "8               0               0         0   lacteos  \n",
       "9               0               0         0   lacteos  "
      ]
     },
     "execution_count": 2,
     "metadata": {},
     "output_type": "execute_result"
    }
   ],
   "source": [
    "df = pd.read_csv(\"MODULO7_PROJETOFINAL_BASE_SUPERMERCADO.csv\")\n",
    "\n",
    "df.head(10)"
   ]
  },
  {
   "cell_type": "markdown",
   "metadata": {
    "id": "YJgKJ7Nxwtw2"
   },
   "source": [
    "Os campos do nosso dataframe são:\n",
    "\n",
    "**Title:** Nome do produto.\n",
    "\n",
    "\n",
    "**Marca:** A marca do produto.\n",
    "\n",
    "\n",
    "**Preco_Normal:** O preço em que o produto costuma ser vendido quando não há desconto.\n",
    "\n",
    "\n",
    "**Preco_Desconto:** O preço vendido após o desconto ser aplicado.\n",
    "\n",
    "\n",
    "**Preco_Anterior:** Preço em que era comercializado o produto antes do desconto aplicado.\n",
    "\n",
    "\n",
    "**Desconto:** Total de desconto aplicado.\n",
    "\n",
    "\n",
    "\n",
    "\n",
    "\n",
    "\n",
    "As colunas que aparecem com valores 0 são para os produtos onde não tivemos descontos aplicados.\n",
    "\n",
    "\n",
    "As categorias estão em espanhol!"
   ]
  },
  {
   "cell_type": "markdown",
   "metadata": {
    "id": "4u6WBeyyy6ri"
   },
   "source": [
    "## 1 - Traga a média e a mediana dos preços - coluna Preco_Normal - por categoria de produto.\n",
    "### Identifique as categorias que parecem ter um valor de média abaixo ou acima da mediana."
   ]
  },
  {
   "cell_type": "code",
   "execution_count": 117,
   "metadata": {
    "id": "E7B7FolOzVcJ"
   },
   "outputs": [
    {
     "data": {
      "text/html": [
       "<div>\n",
       "<style scoped>\n",
       "    .dataframe tbody tr th:only-of-type {\n",
       "        vertical-align: middle;\n",
       "    }\n",
       "\n",
       "    .dataframe tbody tr th {\n",
       "        vertical-align: top;\n",
       "    }\n",
       "\n",
       "    .dataframe thead th {\n",
       "        text-align: right;\n",
       "    }\n",
       "</style>\n",
       "<table border=\"1\" class=\"dataframe\">\n",
       "  <thead>\n",
       "    <tr style=\"text-align: right;\">\n",
       "      <th></th>\n",
       "      <th>Média</th>\n",
       "      <th>Mediana</th>\n",
       "      <th>Assimetria</th>\n",
       "    </tr>\n",
       "    <tr>\n",
       "      <th>Categoria</th>\n",
       "      <th></th>\n",
       "      <th></th>\n",
       "      <th></th>\n",
       "    </tr>\n",
       "  </thead>\n",
       "  <tbody>\n",
       "    <tr>\n",
       "      <th>lacteos</th>\n",
       "      <td>2385.22</td>\n",
       "      <td>989.0</td>\n",
       "      <td>0.36</td>\n",
       "    </tr>\n",
       "    <tr>\n",
       "      <th>frutas</th>\n",
       "      <td>1724.47</td>\n",
       "      <td>1195.0</td>\n",
       "      <td>0.32</td>\n",
       "    </tr>\n",
       "    <tr>\n",
       "      <th>instantaneos-y-sopas</th>\n",
       "      <td>765.49</td>\n",
       "      <td>439.0</td>\n",
       "      <td>0.28</td>\n",
       "    </tr>\n",
       "    <tr>\n",
       "      <th>congelados</th>\n",
       "      <td>2108.04</td>\n",
       "      <td>1519.0</td>\n",
       "      <td>0.28</td>\n",
       "    </tr>\n",
       "    <tr>\n",
       "      <th>verduras</th>\n",
       "      <td>1343.30</td>\n",
       "      <td>1180.0</td>\n",
       "      <td>0.16</td>\n",
       "    </tr>\n",
       "    <tr>\n",
       "      <th>belleza-y-cuidado-personal</th>\n",
       "      <td>1783.56</td>\n",
       "      <td>1569.0</td>\n",
       "      <td>0.10</td>\n",
       "    </tr>\n",
       "    <tr>\n",
       "      <th>comidas-preparadas</th>\n",
       "      <td>3095.04</td>\n",
       "      <td>3290.0</td>\n",
       "      <td>-0.10</td>\n",
       "    </tr>\n",
       "  </tbody>\n",
       "</table>\n",
       "</div>"
      ],
      "text/plain": [
       "                              Média  Mediana  Assimetria\n",
       "Categoria                                               \n",
       "lacteos                     2385.22    989.0        0.36\n",
       "frutas                      1724.47   1195.0        0.32\n",
       "instantaneos-y-sopas         765.49    439.0        0.28\n",
       "congelados                  2108.04   1519.0        0.28\n",
       "verduras                    1343.30   1180.0        0.16\n",
       "belleza-y-cuidado-personal  1783.56   1569.0        0.10\n",
       "comidas-preparadas          3095.04   3290.0       -0.10"
      ]
     },
     "execution_count": 117,
     "metadata": {},
     "output_type": "execute_result"
    }
   ],
   "source": [
    "def skewness(x: pd.Series) -> float:\n",
    "    return (x.mean() - x.median()) / x.std()\n",
    "\n",
    "(df\n",
    " .groupby(\"Categoria\")[\"Preco_Normal\"]\n",
    " .aggregate([\"mean\", \"median\", skewness])\n",
    " .sort_values(by=\"skewness\", ascending=False)\n",
    " .rename(columns={\"mean\": \"Média\", \"median\": \"Mediana\", \"skewness\": \"Assimetria\"})\n",
    " .round(2))"
   ]
  },
  {
   "cell_type": "markdown",
   "metadata": {
    "id": "nKBFOh-mzyWX"
   },
   "source": [
    "Todas as categorias apresentam valores de média divergentes da mediana, mas vale apontar a maior discrepância para as categorias `lacteos`, `congelados` e `frutas`. Além disso, somente a categoria `comidas-preparadas` possui a mediana dos preços maior que a média. <br><br>\n",
    "O valor de assimetria calculado pela fórmula $\\frac{\\mu - \\mu_{\\frac{1}{2}}}{\\sigma}$ (onde $\\mu_{\\frac{1}{2}}$ denota a mediana) corresponde a essa observação, com valores positivos indicando a presença de uma cauda à direita na distribuição dos dados, e vice-versa."
   ]
  },
  {
   "cell_type": "markdown",
   "metadata": {
    "id": "jdHZurzDzca0"
   },
   "source": [
    "## 2 - Traga o desvio padrão por categoria de produto.\n",
    "### Qual o comportamento da média e mediana nas categorias com maior desvio?"
   ]
  },
  {
   "cell_type": "code",
   "execution_count": 4,
   "metadata": {
    "id": "xEXT1gtoz135"
   },
   "outputs": [
    {
     "data": {
      "text/html": [
       "<div>\n",
       "<style scoped>\n",
       "    .dataframe tbody tr th:only-of-type {\n",
       "        vertical-align: middle;\n",
       "    }\n",
       "\n",
       "    .dataframe tbody tr th {\n",
       "        vertical-align: top;\n",
       "    }\n",
       "\n",
       "    .dataframe thead th {\n",
       "        text-align: right;\n",
       "    }\n",
       "</style>\n",
       "<table border=\"1\" class=\"dataframe\">\n",
       "  <thead>\n",
       "    <tr style=\"text-align: right;\">\n",
       "      <th></th>\n",
       "      <th>Média</th>\n",
       "      <th>Mediana</th>\n",
       "      <th>Assimetria</th>\n",
       "      <th>Desvio Padrão</th>\n",
       "      <th>Coeficiente de Variação</th>\n",
       "    </tr>\n",
       "    <tr>\n",
       "      <th>Categoria</th>\n",
       "      <th></th>\n",
       "      <th></th>\n",
       "      <th></th>\n",
       "      <th></th>\n",
       "      <th></th>\n",
       "    </tr>\n",
       "  </thead>\n",
       "  <tbody>\n",
       "    <tr>\n",
       "      <th>lacteos</th>\n",
       "      <td>2385.22</td>\n",
       "      <td>989.0</td>\n",
       "      <td>0.36</td>\n",
       "      <td>3925.82</td>\n",
       "      <td>1.65</td>\n",
       "    </tr>\n",
       "    <tr>\n",
       "      <th>instantaneos-y-sopas</th>\n",
       "      <td>765.49</td>\n",
       "      <td>439.0</td>\n",
       "      <td>0.28</td>\n",
       "      <td>1170.23</td>\n",
       "      <td>1.53</td>\n",
       "    </tr>\n",
       "    <tr>\n",
       "      <th>belleza-y-cuidado-personal</th>\n",
       "      <td>1783.56</td>\n",
       "      <td>1569.0</td>\n",
       "      <td>0.10</td>\n",
       "      <td>2210.04</td>\n",
       "      <td>1.24</td>\n",
       "    </tr>\n",
       "    <tr>\n",
       "      <th>congelados</th>\n",
       "      <td>2108.04</td>\n",
       "      <td>1519.0</td>\n",
       "      <td>0.28</td>\n",
       "      <td>2111.54</td>\n",
       "      <td>1.00</td>\n",
       "    </tr>\n",
       "    <tr>\n",
       "      <th>frutas</th>\n",
       "      <td>1724.47</td>\n",
       "      <td>1195.0</td>\n",
       "      <td>0.32</td>\n",
       "      <td>1639.15</td>\n",
       "      <td>0.95</td>\n",
       "    </tr>\n",
       "    <tr>\n",
       "      <th>verduras</th>\n",
       "      <td>1343.30</td>\n",
       "      <td>1180.0</td>\n",
       "      <td>0.16</td>\n",
       "      <td>1012.70</td>\n",
       "      <td>0.75</td>\n",
       "    </tr>\n",
       "    <tr>\n",
       "      <th>comidas-preparadas</th>\n",
       "      <td>3095.04</td>\n",
       "      <td>3290.0</td>\n",
       "      <td>-0.10</td>\n",
       "      <td>2019.91</td>\n",
       "      <td>0.65</td>\n",
       "    </tr>\n",
       "  </tbody>\n",
       "</table>\n",
       "</div>"
      ],
      "text/plain": [
       "                              Média  Mediana  Assimetria  Desvio Padrão  \\\n",
       "Categoria                                                                 \n",
       "lacteos                     2385.22    989.0        0.36        3925.82   \n",
       "instantaneos-y-sopas         765.49    439.0        0.28        1170.23   \n",
       "belleza-y-cuidado-personal  1783.56   1569.0        0.10        2210.04   \n",
       "congelados                  2108.04   1519.0        0.28        2111.54   \n",
       "frutas                      1724.47   1195.0        0.32        1639.15   \n",
       "verduras                    1343.30   1180.0        0.16        1012.70   \n",
       "comidas-preparadas          3095.04   3290.0       -0.10        2019.91   \n",
       "\n",
       "                            Coeficiente de Variação  \n",
       "Categoria                                            \n",
       "lacteos                                        1.65  \n",
       "instantaneos-y-sopas                           1.53  \n",
       "belleza-y-cuidado-personal                     1.24  \n",
       "congelados                                     1.00  \n",
       "frutas                                         0.95  \n",
       "verduras                                       0.75  \n",
       "comidas-preparadas                             0.65  "
      ]
     },
     "execution_count": 4,
     "metadata": {},
     "output_type": "execute_result"
    }
   ],
   "source": [
    "def cv(x: pd.Series) -> float:\n",
    "    return x.std() / x.mean()\n",
    "\n",
    "stats = (df\n",
    "        .groupby(\"Categoria\")[\"Preco_Normal\"]\n",
    "        .aggregate([\"mean\", \"median\", skewness, \"std\", cv])\n",
    "        .sort_values(by=\"cv\", ascending=False)\n",
    "        .rename(columns={\n",
    "                \"mean\": \"Média\", \n",
    "                \"median\": \"Mediana\", \n",
    "                \"skewness\": \"Assimetria\",\n",
    "                \"std\": \"Desvio Padrão\", \n",
    "                \"cv\": \"Coeficiente de Variação\"\n",
    "                })\n",
    "        .round(2))\n",
    "stats"
   ]
  },
  {
   "cell_type": "markdown",
   "metadata": {},
   "source": [
    "A categoria `lacteos`, que apresenta a maior assimetria, também apresenta o maior desvio-padrão. Nesse caso, a assimetria correlaciona com o desvio-padrão, mas considerando a categoria `frutas`, nota-se que nem sempre uma maior assimetria está relacionada a um alto desvio-padrão. Essa categoria apresenta o terceiro menor coeficiente de variação (ou desvio-padrão relativo, definido como o desvio-padrão dividido pela média), assim como o terceiro menor desvio-padrão, mas possui o segundo maior valor de assimetria."
   ]
  },
  {
   "cell_type": "markdown",
   "metadata": {
    "id": "4aW51rCHBr2w"
   },
   "source": [
    "## 3 - Plot um boxplot da distribuição do Preco_Normal para a categoria que você identificou que tem o maior desvio padrão. Como é a distribuição desses dados segundo o boxplot? Você identifica muitos outliers?"
   ]
  },
  {
   "cell_type": "markdown",
   "metadata": {
    "id": "kwPKkUZnEUSb"
   },
   "source": [
    "Dica: Para trazer apenas os dados da categoria que você deseja você pode usar o df.loc[df['Categoria'] == 'CATEGORIA ESCOLHIDA'"
   ]
  },
  {
   "cell_type": "code",
   "execution_count": 5,
   "metadata": {
    "id": "_02thblTCKEF"
   },
   "outputs": [
    {
     "data": {
      "image/png": "[encoded data removed]",
      "text/plain": [
       "<Figure size 640x480 with 1 Axes>"
      ]
     },
     "metadata": {},
     "output_type": "display_data"
    }
   ],
   "source": [
    "max_std_ctg = stats.sort_values(by=\"Desvio Padrão\", ascending=False).index[0]\n",
    "s = df[df[\"Categoria\"] == max_std_ctg]\n",
    "\n",
    "plt.boxplot(s[\"Preco_Normal\"], vert=False, tick_labels=[\"\"])\n",
    "plt.title(f\"Distribuição de preço da categoria \\\"{max_std_ctg}\\\"\")\n",
    "plt.xlabel(\"Preço (R$)\")\n",
    "plt.show()"
   ]
  },
  {
   "cell_type": "markdown",
   "metadata": {},
   "source": [
    "Podem ser observados vários *outliers* na distribuição do preço, como esperado pela assimetria positiva calculada anteriormente. Pelo gráfico, o valor médio de R$ 2385,22 encontra-se entre o percentil 50 e 75, \"puxado\" para cima pelos aos *outliers*."
   ]
  },
  {
   "cell_type": "markdown",
   "metadata": {
    "id": "w5xgQBC_0Hg-"
   },
   "source": [
    "## 4 - Plote um gráfico de barras onde temos a média de descontos por categoria."
   ]
  },
  {
   "cell_type": "code",
   "execution_count": null,
   "metadata": {
    "id": "DBj5zAdI0QfI"
   },
   "outputs": [
    {
     "data": {
      "image/png": "[encoded data removed]",
      "text/plain": [
       "<Figure size 1000x500 with 1 Axes>"
      ]
     },
     "metadata": {},
     "output_type": "display_data"
    }
   ],
   "source": [
    "((t := df\n",
    "        .groupby(\"Categoria\")\n",
    "        [\"Desconto\"]\n",
    "        .aggregate([\"mean\", \"std\"])\n",
    "        .sort_values(by=\"mean\", ascending=False))\n",
    "    .plot.barh(figsize=(10, 5), y=\"mean\", xerr=[[0]*t.shape[0],t[\"std\"]], capsize=5, legend=False))\n",
    "\n",
    "plt.xlabel(\"Desconto médio (R$)\")\n",
    "plt.ylabel(\"\")\n",
    "plt.title(\"Desconto médio por categoria\")\n",
    "plt.tight_layout()\n",
    "plt.show()"
   ]
  },
  {
   "cell_type": "markdown",
   "metadata": {
    "id": "vqlx0w7E07uC"
   },
   "source": [
    "## 5 - Plote um gráfico de mapa interativo agrupando os dados por categoria, marca e trazendo a média de desconto."
   ]
  },
  {
   "cell_type": "code",
   "execution_count": 118,
   "metadata": {
    "id": "D-JWM64Q1NzB"
   },
   "outputs": [
    {
     "data": {
      "text/html": [
       "<div>\n",
       "<style scoped>\n",
       "    .dataframe tbody tr th:only-of-type {\n",
       "        vertical-align: middle;\n",
       "    }\n",
       "\n",
       "    .dataframe tbody tr th {\n",
       "        vertical-align: top;\n",
       "    }\n",
       "\n",
       "    .dataframe thead th {\n",
       "        text-align: right;\n",
       "    }\n",
       "</style>\n",
       "<table border=\"1\" class=\"dataframe\">\n",
       "  <thead>\n",
       "    <tr style=\"text-align: right;\">\n",
       "      <th></th>\n",
       "      <th></th>\n",
       "      <th>Desconto Médio (R$)</th>\n",
       "      <th>Desvio Padrão</th>\n",
       "      <th>Quantidade de Produtos</th>\n",
       "    </tr>\n",
       "    <tr>\n",
       "      <th>Categoria</th>\n",
       "      <th>Marca</th>\n",
       "      <th></th>\n",
       "      <th></th>\n",
       "      <th></th>\n",
       "    </tr>\n",
       "  </thead>\n",
       "  <tbody>\n",
       "    <tr>\n",
       "      <th rowspan=\"5\" valign=\"top\">belleza-y-cuidado-personal</th>\n",
       "      <th>Always</th>\n",
       "      <td>123.75</td>\n",
       "      <td>247.50</td>\n",
       "      <td>4</td>\n",
       "    </tr>\n",
       "    <tr>\n",
       "      <th>Aquafresh</th>\n",
       "      <td>444.67</td>\n",
       "      <td>386.34</td>\n",
       "      <td>3</td>\n",
       "    </tr>\n",
       "    <tr>\n",
       "      <th>Ballerina</th>\n",
       "      <td>34.08</td>\n",
       "      <td>118.07</td>\n",
       "      <td>12</td>\n",
       "    </tr>\n",
       "    <tr>\n",
       "      <th>Bellekiss</th>\n",
       "      <td>0.00</td>\n",
       "      <td>0.00</td>\n",
       "      <td>4</td>\n",
       "    </tr>\n",
       "    <tr>\n",
       "      <th>BiO</th>\n",
       "      <td>650.00</td>\n",
       "      <td>0.00</td>\n",
       "      <td>4</td>\n",
       "    </tr>\n",
       "    <tr>\n",
       "      <th>...</th>\n",
       "      <th>...</th>\n",
       "      <td>...</td>\n",
       "      <td>...</td>\n",
       "      <td>...</td>\n",
       "    </tr>\n",
       "    <tr>\n",
       "      <th>lacteos</th>\n",
       "      <th>Zerolacto</th>\n",
       "      <td>0.00</td>\n",
       "      <td>0.00</td>\n",
       "      <td>4</td>\n",
       "    </tr>\n",
       "    <tr>\n",
       "      <th rowspan=\"4\" valign=\"top\">verduras</th>\n",
       "      <th>Agrosano</th>\n",
       "      <td>0.00</td>\n",
       "      <td>0.00</td>\n",
       "      <td>2</td>\n",
       "    </tr>\n",
       "    <tr>\n",
       "      <th>Dole</th>\n",
       "      <td>0.00</td>\n",
       "      <td>0.00</td>\n",
       "      <td>3</td>\n",
       "    </tr>\n",
       "    <tr>\n",
       "      <th>Frutas Y Verduras Propias</th>\n",
       "      <td>0.00</td>\n",
       "      <td>0.00</td>\n",
       "      <td>56</td>\n",
       "    </tr>\n",
       "    <tr>\n",
       "      <th>Jumbo</th>\n",
       "      <td>0.00</td>\n",
       "      <td>0.00</td>\n",
       "      <td>3</td>\n",
       "    </tr>\n",
       "  </tbody>\n",
       "</table>\n",
       "<p>112 rows × 3 columns</p>\n",
       "</div>"
      ],
      "text/plain": [
       "                                                      Desconto Médio (R$)  \\\n",
       "Categoria                  Marca                                            \n",
       "belleza-y-cuidado-personal Always                                  123.75   \n",
       "                           Aquafresh                               444.67   \n",
       "                           Ballerina                                34.08   \n",
       "                           Bellekiss                                 0.00   \n",
       "                           BiO                                     650.00   \n",
       "...                                                                   ...   \n",
       "lacteos                    Zerolacto                                 0.00   \n",
       "verduras                   Agrosano                                  0.00   \n",
       "                           Dole                                      0.00   \n",
       "                           Frutas Y Verduras Propias                 0.00   \n",
       "                           Jumbo                                     0.00   \n",
       "\n",
       "                                                      Desvio Padrão  \\\n",
       "Categoria                  Marca                                      \n",
       "belleza-y-cuidado-personal Always                            247.50   \n",
       "                           Aquafresh                         386.34   \n",
       "                           Ballerina                         118.07   \n",
       "                           Bellekiss                           0.00   \n",
       "                           BiO                                 0.00   \n",
       "...                                                             ...   \n",
       "lacteos                    Zerolacto                           0.00   \n",
       "verduras                   Agrosano                            0.00   \n",
       "                           Dole                                0.00   \n",
       "                           Frutas Y Verduras Propias           0.00   \n",
       "                           Jumbo                               0.00   \n",
       "\n",
       "                                                      Quantidade de Produtos  \n",
       "Categoria                  Marca                                              \n",
       "belleza-y-cuidado-personal Always                                          4  \n",
       "                           Aquafresh                                       3  \n",
       "                           Ballerina                                      12  \n",
       "                           Bellekiss                                       4  \n",
       "                           BiO                                             4  \n",
       "...                                                                      ...  \n",
       "lacteos                    Zerolacto                                       4  \n",
       "verduras                   Agrosano                                        2  \n",
       "                           Dole                                            3  \n",
       "                           Frutas Y Verduras Propias                      56  \n",
       "                           Jumbo                                           3  \n",
       "\n",
       "[112 rows x 3 columns]"
      ]
     },
     "execution_count": 118,
     "metadata": {},
     "output_type": "execute_result"
    }
   ],
   "source": [
    "tdf = (df\n",
    "       .groupby([\"Categoria\", \"Marca\"])\n",
    "       [\"Desconto\"]\n",
    "       .aggregate([\"mean\", \"std\", \"count\"])\n",
    "       .dropna()\n",
    "       .rename(columns={\n",
    "               \"mean\": \"Desconto Médio (R$)\", \n",
    "               \"std\": \"Desvio Padrão\", \n",
    "               \"count\": \"Quantidade de Produtos\"\n",
    "               })\n",
    "       .round(2))\n",
    "\n",
    "tdf"
   ]
  },
  {
   "cell_type": "code",
   "execution_count": 119,
   "metadata": {},
   "outputs": [
    {
     "data": {
      "application/vnd.plotly.v1+json": {
       "config": {
        "plotlyServerURL": "https://plot.ly"
       },
       "data": [
        {
         "branchvalues": "total",
         "customdata": [
          [
           "4",
           247.5
          ],
          [
           "3",
           386.3399999999999
          ],
          [
           "12",
           118.07
          ],
          [
           "4",
           null
          ],
          [
           "4",
           0
          ],
          [
           "3",
           null
          ],
          [
           "21",
           245.6
          ],
          [
           "2",
           null
          ],
          [
           "3",
           null
          ],
          [
           "15",
           500.19
          ],
          [
           "4",
           504.5
          ],
          [
           "2",
           null
          ],
          [
           "3",
           null
          ],
          [
           "9",
           null
          ],
          [
           "12",
           null
          ],
          [
           "5",
           null
          ],
          [
           "9",
           null
          ],
          [
           "2",
           null
          ],
          [
           "6",
           null
          ],
          [
           "3",
           null
          ],
          [
           "6",
           135.13
          ],
          [
           "3",
           null
          ],
          [
           "6",
           232.29
          ],
          [
           "4",
           null
          ],
          [
           "2",
           null
          ],
          [
           "3",
           null
          ],
          [
           "12",
           null
          ],
          [
           "11",
           235.46000000000004
          ],
          [
           "9",
           265.67
          ],
          [
           "7",
           310.16
          ],
          [
           "3",
           442.9200000000001
          ],
          [
           "2",
           430.63
          ],
          [
           "2",
           0
          ],
          [
           "3",
           null
          ],
          [
           "8",
           null
          ],
          [
           "2",
           null
          ],
          [
           "4",
           null
          ],
          [
           "2",
           null
          ],
          [
           "2",
           null
          ],
          [
           "3",
           null
          ],
          [
           "6",
           null
          ],
          [
           "2",
           null
          ],
          [
           "19",
           null
          ],
          [
           "10",
           258.2
          ],
          [
           "3",
           null
          ],
          [
           "3",
           null
          ],
          [
           "2",
           null
          ],
          [
           "14",
           440.29
          ],
          [
           "2",
           505.58000000000004
          ],
          [
           "35",
           288.68
          ],
          [
           "15",
           174.08
          ],
          [
           "7",
           null
          ],
          [
           "2",
           null
          ],
          [
           "24",
           null
          ],
          [
           "4",
           132.79
          ],
          [
           "20",
           47.63
          ],
          [
           "3",
           null
          ],
          [
           "6",
           null
          ],
          [
           "12",
           null
          ],
          [
           "3",
           null
          ],
          [
           "3",
           null
          ],
          [
           "4",
           328.5
          ],
          [
           "22",
           null
          ],
          [
           "2",
           98.99
          ],
          [
           "32",
           344.41
          ],
          [
           "6",
           null
          ],
          [
           "3",
           null
          ],
          [
           "3",
           0
          ],
          [
           "17",
           null
          ],
          [
           "2",
           null
          ],
          [
           "5",
           null
          ],
          [
           "4",
           null
          ],
          [
           "2",
           null
          ],
          [
           "28",
           null
          ],
          [
           "7",
           null
          ],
          [
           "5",
           null
          ],
          [
           "2",
           null
          ],
          [
           "6",
           null
          ],
          [
           "3",
           null
          ],
          [
           "9",
           null
          ],
          [
           "8",
           null
          ],
          [
           "3",
           null
          ],
          [
           "5",
           null
          ],
          [
           "87",
           41.71
          ],
          [
           "22",
           76.54
          ],
          [
           "9",
           null
          ],
          [
           "2",
           null
          ],
          [
           "3",
           null
          ],
          [
           "50",
           null
          ],
          [
           "2",
           null
          ],
          [
           "2",
           null
          ],
          [
           "43",
           11.59
          ],
          [
           "4",
           null
          ],
          [
           "5",
           1944.93
          ],
          [
           "9",
           null
          ],
          [
           "2",
           null
          ],
          [
           "2",
           null
          ],
          [
           "10",
           null
          ],
          [
           "2",
           null
          ],
          [
           "2",
           211.42
          ],
          [
           "2",
           null
          ],
          [
           "102",
           62.699999999999996
          ],
          [
           "3",
           null
          ],
          [
           "4",
           301.39
          ],
          [
           "13",
           null
          ],
          [
           "3",
           null
          ],
          [
           "8",
           null
          ],
          [
           "4",
           null
          ],
          [
           "2",
           null
          ],
          [
           "3",
           null
          ],
          [
           "56",
           null
          ],
          [
           "3",
           null
          ],
          [
           "(?)",
           254.4887980107995
          ],
          [
           "(?)",
           258.2
          ],
          [
           "(?)",
           238.28868789238487
          ],
          [
           "17",
           null
          ],
          [
           "(?)",
           null
          ],
          [
           "(?)",
           1373.291350298011
          ],
          [
           "(?)",
           null
          ],
          [
           "(?)",
           406.58146711965094
          ]
         ],
         "domain": {
          "x": [
           0,
           1
          ],
          "y": [
           0,
           1
          ]
         },
         "hovertemplate": "Desconto médio: R$ %{value:.2f}<br>Desvio padrão: R$ %{color:.2f}<br>Quantidade de produtos: %{customdata[0]}<extra></extra>",
         "ids": [
          "Categorias/belleza-y-cuidado-personal/Always",
          "Categorias/belleza-y-cuidado-personal/Aquafresh",
          "Categorias/belleza-y-cuidado-personal/Ballerina",
          "Categorias/belleza-y-cuidado-personal/Bellekiss",
          "Categorias/belleza-y-cuidado-personal/BiO",
          "Categorias/belleza-y-cuidado-personal/Carefree",
          "Categorias/belleza-y-cuidado-personal/Colgate",
          "Categorias/belleza-y-cuidado-personal/Cotidian",
          "Categorias/belleza-y-cuidado-personal/Dento",
          "Categorias/belleza-y-cuidado-personal/Dove",
          "Categorias/belleza-y-cuidado-personal/Dove Men",
          "Categorias/belleza-y-cuidado-personal/Duralón",
          "Categorias/belleza-y-cuidado-personal/Elite",
          "Categorias/belleza-y-cuidado-personal/Elvive",
          "Categorias/belleza-y-cuidado-personal/Familand",
          "Categorias/belleza-y-cuidado-personal/Family Care",
          "Categorias/belleza-y-cuidado-personal/Fructis",
          "Categorias/belleza-y-cuidado-personal/Gillette",
          "Categorias/belleza-y-cuidado-personal/Head & Shoulders",
          "Categorias/belleza-y-cuidado-personal/Herbal Essences",
          "Categorias/belleza-y-cuidado-personal/Kotex",
          "Categorias/belleza-y-cuidado-personal/Lady Speed Stick",
          "Categorias/belleza-y-cuidado-personal/Ladysoft",
          "Categorias/belleza-y-cuidado-personal/Le Sancy",
          "Categorias/belleza-y-cuidado-personal/Listerine",
          "Categorias/belleza-y-cuidado-personal/Naturella",
          "Categorias/belleza-y-cuidado-personal/Nivea",
          "Categorias/belleza-y-cuidado-personal/Nosotras",
          "Categorias/belleza-y-cuidado-personal/Oral-B",
          "Categorias/belleza-y-cuidado-personal/Pantene",
          "Categorias/belleza-y-cuidado-personal/Pepsodent",
          "Categorias/belleza-y-cuidado-personal/Protex",
          "Categorias/belleza-y-cuidado-personal/Rexona Clinical",
          "Categorias/belleza-y-cuidado-personal/Sedal",
          "Categorias/belleza-y-cuidado-personal/Simond'S",
          "Categorias/belleza-y-cuidado-personal/Speed Stick",
          "Categorias/belleza-y-cuidado-personal/Tena",
          "Categorias/belleza-y-cuidado-personal/Trianon",
          "Categorias/belleza-y-cuidado-personal/Tío Nacho",
          "Categorias/belleza-y-cuidado-personal/Vanart",
          "Categorias/comidas-preparadas/Bredenmaster",
          "Categorias/comidas-preparadas/Corbac",
          "Categorias/comidas-preparadas/Cuisine & Co",
          "Categorias/comidas-preparadas/PF",
          "Categorias/comidas-preparadas/Rana",
          "Categorias/comidas-preparadas/Solo Italia",
          "Categorias/congelados/Alimentos Shen",
          "Categorias/congelados/Bresler",
          "Categorias/congelados/Carte Dor",
          "Categorias/congelados/Cuisine & Co",
          "Categorias/congelados/Frutos Del Maipo",
          "Categorias/congelados/Guallarauco",
          "Categorias/congelados/King",
          "Categorias/congelados/La Crianza",
          "Categorias/congelados/Magnum",
          "Categorias/congelados/Minuto Verde",
          "Categorias/congelados/Mister Veggie",
          "Categorias/congelados/Not Ice Cream",
          "Categorias/congelados/Receta Del Abuelo",
          "Categorias/congelados/Rikü",
          "Categorias/congelados/Sadia",
          "Categorias/congelados/Sahne Nuss",
          "Categorias/congelados/San Francisco De Loncomilla",
          "Categorias/congelados/San Jorge",
          "Categorias/congelados/Savory",
          "Categorias/congelados/Super Pollo",
          "Categorias/congelados/Turkey Hill",
          "Categorias/congelados/Viennetta Bresler",
          "Categorias/frutas/Frutas Y Verduras Propias",
          "Categorias/instantaneos-y-sopas/Alcafood",
          "Categorias/instantaneos-y-sopas/Cuisine & Co",
          "Categorias/instantaneos-y-sopas/Gourmet",
          "Categorias/instantaneos-y-sopas/Hoffmann",
          "Categorias/instantaneos-y-sopas/Maggi",
          "Categorias/instantaneos-y-sopas/Naturezza",
          "Categorias/instantaneos-y-sopas/Santa Isabel",
          "Categorias/instantaneos-y-sopas/Traverso",
          "Categorias/lacteos/Activia",
          "Categorias/lacteos/Bonella",
          "Categorias/lacteos/Calan",
          "Categorias/lacteos/Calo",
          "Categorias/lacteos/Chamyto",
          "Categorias/lacteos/Cintazul",
          "Categorias/lacteos/Colun",
          "Categorias/lacteos/Cuisine & Co",
          "Categorias/lacteos/Danone",
          "Categorias/lacteos/Lefersa",
          "Categorias/lacteos/Light & Free",
          "Categorias/lacteos/Loncoleche",
          "Categorias/lacteos/Los Alerces",
          "Categorias/lacteos/Nesquik",
          "Categorias/lacteos/Nestlé",
          "Categorias/lacteos/Next",
          "Categorias/lacteos/Nido",
          "Categorias/lacteos/Oikos",
          "Categorias/lacteos/Omega 3",
          "Categorias/lacteos/Qualy",
          "Categorias/lacteos/Quillayes",
          "Categorias/lacteos/Regimel",
          "Categorias/lacteos/Santa Marta",
          "Categorias/lacteos/Shake A Shake Lonco Leche",
          "Categorias/lacteos/Soprole",
          "Categorias/lacteos/Soprole Activ",
          "Categorias/lacteos/Sureña",
          "Categorias/lacteos/Surlat",
          "Categorias/lacteos/Svelty",
          "Categorias/lacteos/Yogu - Yogu",
          "Categorias/lacteos/Zerolacto",
          "Categorias/verduras/Agrosano",
          "Categorias/verduras/Dole",
          "Categorias/verduras/Frutas Y Verduras Propias",
          "Categorias/verduras/Jumbo",
          "Categorias/belleza-y-cuidado-personal",
          "Categorias/comidas-preparadas",
          "Categorias/congelados",
          "Categorias/frutas",
          "Categorias/instantaneos-y-sopas",
          "Categorias/lacteos",
          "Categorias/verduras",
          "Categorias"
         ],
         "labels": [
          "Always",
          "Aquafresh",
          "Ballerina",
          "Bellekiss",
          "BiO",
          "Carefree",
          "Colgate",
          "Cotidian",
          "Dento",
          "Dove",
          "Dove Men",
          "Duralón",
          "Elite",
          "Elvive",
          "Familand",
          "Family Care",
          "Fructis",
          "Gillette",
          "Head & Shoulders",
          "Herbal Essences",
          "Kotex",
          "Lady Speed Stick",
          "Ladysoft",
          "Le Sancy",
          "Listerine",
          "Naturella",
          "Nivea",
          "Nosotras",
          "Oral-B",
          "Pantene",
          "Pepsodent",
          "Protex",
          "Rexona Clinical",
          "Sedal",
          "Simond'S",
          "Speed Stick",
          "Tena",
          "Trianon",
          "Tío Nacho",
          "Vanart",
          "Bredenmaster",
          "Corbac",
          "Cuisine & Co",
          "PF",
          "Rana",
          "Solo Italia",
          "Alimentos Shen",
          "Bresler",
          "Carte Dor",
          "Cuisine & Co",
          "Frutos Del Maipo",
          "Guallarauco",
          "King",
          "La Crianza",
          "Magnum",
          "Minuto Verde",
          "Mister Veggie",
          "Not Ice Cream",
          "Receta Del Abuelo",
          "Rikü",
          "Sadia",
          "Sahne Nuss",
          "San Francisco De Loncomilla",
          "San Jorge",
          "Savory",
          "Super Pollo",
          "Turkey Hill",
          "Viennetta Bresler",
          "Frutas Y Verduras Propias",
          "Alcafood",
          "Cuisine & Co",
          "Gourmet",
          "Hoffmann",
          "Maggi",
          "Naturezza",
          "Santa Isabel",
          "Traverso",
          "Activia",
          "Bonella",
          "Calan",
          "Calo",
          "Chamyto",
          "Cintazul",
          "Colun",
          "Cuisine & Co",
          "Danone",
          "Lefersa",
          "Light & Free",
          "Loncoleche",
          "Los Alerces",
          "Nesquik",
          "Nestlé",
          "Next",
          "Nido",
          "Oikos",
          "Omega 3",
          "Qualy",
          "Quillayes",
          "Regimel",
          "Santa Marta",
          "Shake A Shake Lonco Leche",
          "Soprole",
          "Soprole Activ",
          "Sureña",
          "Surlat",
          "Svelty",
          "Yogu - Yogu",
          "Zerolacto",
          "Agrosano",
          "Dole",
          "Frutas Y Verduras Propias",
          "Jumbo",
          "belleza-y-cuidado-personal",
          "comidas-preparadas",
          "congelados",
          "frutas",
          "instantaneos-y-sopas",
          "lacteos",
          "verduras",
          "Categorias"
         ],
         "marker": {
          "coloraxis": "coloraxis",
          "colors": {
           "bdata": "AAAAAADwbkA8CtejcCV4QBSuR+F6hF1AAAAAAAAA+P8AAAAAAAAAAAAAAAAAAPj/MzMzMzOzbkAAAAAAAAD4/wAAAAAAAPj/16NwPQpDf0AAAAAAAIh/QAAAAAAAAPj/AAAAAAAA+P8AAAAAAAD4/wAAAAAAAPj/AAAAAAAA+P8AAAAAAAD4/wAAAAAAAPj/AAAAAAAA+P8AAAAAAAD4/1yPwvUo5GBAAAAAAAAA+P/hehSuRwltQAAAAAAAAPj/AAAAAAAA+P8AAAAAAAD4/wAAAAAAAPj/IIXrUbhubUAfhetRuJpwQMP1KFyPYnNAIIXrUbiue0CuR+F6FOp6QAAAAAAAAAAAAAAAAAAA+P8AAAAAAAD4/wAAAAAAAPj/AAAAAAAA+P8AAAAAAAD4/wAAAAAAAPj/AAAAAAAA+P8AAAAAAAD4/wAAAAAAAPj/AAAAAAAA+P8zMzMzMyNwQAAAAAAAAPj/AAAAAAAA+P8AAAAAAAD4/3E9CtejhHtA4noUrkeZf0B7FK5H4QpyQMP1KFyPwmVAAAAAAAAA+P8AAAAAAAD4/wAAAAAAAPj/4XoUrkeZYEBxPQrXo9BHQAAAAAAAAPj/AAAAAAAA+P8AAAAAAAD4/wAAAAAAAPj/AAAAAAAA+P8AAAAAAIh0QAAAAAAAAPj/j8L1KFy/WEDD9Shcj4Z1QAAAAAAAAPj/AAAAAAAA+P8AAAAAAAAAAAAAAAAAAPj/AAAAAAAA+P8AAAAAAAD4/wAAAAAAAPj/AAAAAAAA+P8AAAAAAAD4/wAAAAAAAPj/AAAAAAAA+P8AAAAAAAD4/wAAAAAAAPj/AAAAAAAA+P8AAAAAAAD4/wAAAAAAAPj/AAAAAAAA+P8AAAAAAAD4/3sUrkfh2kRAw/UoXI8iU0AAAAAAAAD4/wAAAAAAAPj/AAAAAAAA+P8AAAAAAAD4/wAAAAAAAPj/AAAAAAAA+P+uR+F6FC4nQAAAAAAAAPj/H4XrUbhjnkAAAAAAAAD4/wAAAAAAAPj/AAAAAAAA+P8AAAAAAAD4/wAAAAAAAPj/PQrXo3BtakAAAAAAAAD4/5mZmZmZWU9AAAAAAAAA+P8K16NwPdZyQAAAAAAAAPj/AAAAAAAA+P8AAAAAAAD4/wAAAAAAAPj/AAAAAAAA+P8AAAAAAAD4/wAAAAAAAPj/AAAAAAAA+P9717k7pM9vQDMzMzMzI3BAahFk7jzJbUAAAAAAAAD4/wAAAAAAAPj/jIa7Vyp1lUAAAAAAAAD4/5ppd7BNaXlA",
           "dtype": "f8"
          },
          "cornerradius": 5
         },
         "name": "",
         "parents": [
          "Categorias/belleza-y-cuidado-personal",
          "Categorias/belleza-y-cuidado-personal",
          "Categorias/belleza-y-cuidado-personal",
          "Categorias/belleza-y-cuidado-personal",
          "Categorias/belleza-y-cuidado-personal",
          "Categorias/belleza-y-cuidado-personal",
          "Categorias/belleza-y-cuidado-personal",
          "Categorias/belleza-y-cuidado-personal",
          "Categorias/belleza-y-cuidado-personal",
          "Categorias/belleza-y-cuidado-personal",
          "Categorias/belleza-y-cuidado-personal",
          "Categorias/belleza-y-cuidado-personal",
          "Categorias/belleza-y-cuidado-personal",
          "Categorias/belleza-y-cuidado-personal",
          "Categorias/belleza-y-cuidado-personal",
          "Categorias/belleza-y-cuidado-personal",
          "Categorias/belleza-y-cuidado-personal",
          "Categorias/belleza-y-cuidado-personal",
          "Categorias/belleza-y-cuidado-personal",
          "Categorias/belleza-y-cuidado-personal",
          "Categorias/belleza-y-cuidado-personal",
          "Categorias/belleza-y-cuidado-personal",
          "Categorias/belleza-y-cuidado-personal",
          "Categorias/belleza-y-cuidado-personal",
          "Categorias/belleza-y-cuidado-personal",
          "Categorias/belleza-y-cuidado-personal",
          "Categorias/belleza-y-cuidado-personal",
          "Categorias/belleza-y-cuidado-personal",
          "Categorias/belleza-y-cuidado-personal",
          "Categorias/belleza-y-cuidado-personal",
          "Categorias/belleza-y-cuidado-personal",
          "Categorias/belleza-y-cuidado-personal",
          "Categorias/belleza-y-cuidado-personal",
          "Categorias/belleza-y-cuidado-personal",
          "Categorias/belleza-y-cuidado-personal",
          "Categorias/belleza-y-cuidado-personal",
          "Categorias/belleza-y-cuidado-personal",
          "Categorias/belleza-y-cuidado-personal",
          "Categorias/belleza-y-cuidado-personal",
          "Categorias/belleza-y-cuidado-personal",
          "Categorias/comidas-preparadas",
          "Categorias/comidas-preparadas",
          "Categorias/comidas-preparadas",
          "Categorias/comidas-preparadas",
          "Categorias/comidas-preparadas",
          "Categorias/comidas-preparadas",
          "Categorias/congelados",
          "Categorias/congelados",
          "Categorias/congelados",
          "Categorias/congelados",
          "Categorias/congelados",
          "Categorias/congelados",
          "Categorias/congelados",
          "Categorias/congelados",
          "Categorias/congelados",
          "Categorias/congelados",
          "Categorias/congelados",
          "Categorias/congelados",
          "Categorias/congelados",
          "Categorias/congelados",
          "Categorias/congelados",
          "Categorias/congelados",
          "Categorias/congelados",
          "Categorias/congelados",
          "Categorias/congelados",
          "Categorias/congelados",
          "Categorias/congelados",
          "Categorias/congelados",
          "Categorias/frutas",
          "Categorias/instantaneos-y-sopas",
          "Categorias/instantaneos-y-sopas",
          "Categorias/instantaneos-y-sopas",
          "Categorias/instantaneos-y-sopas",
          "Categorias/instantaneos-y-sopas",
          "Categorias/instantaneos-y-sopas",
          "Categorias/instantaneos-y-sopas",
          "Categorias/instantaneos-y-sopas",
          "Categorias/lacteos",
          "Categorias/lacteos",
          "Categorias/lacteos",
          "Categorias/lacteos",
          "Categorias/lacteos",
          "Categorias/lacteos",
          "Categorias/lacteos",
          "Categorias/lacteos",
          "Categorias/lacteos",
          "Categorias/lacteos",
          "Categorias/lacteos",
          "Categorias/lacteos",
          "Categorias/lacteos",
          "Categorias/lacteos",
          "Categorias/lacteos",
          "Categorias/lacteos",
          "Categorias/lacteos",
          "Categorias/lacteos",
          "Categorias/lacteos",
          "Categorias/lacteos",
          "Categorias/lacteos",
          "Categorias/lacteos",
          "Categorias/lacteos",
          "Categorias/lacteos",
          "Categorias/lacteos",
          "Categorias/lacteos",
          "Categorias/lacteos",
          "Categorias/lacteos",
          "Categorias/lacteos",
          "Categorias/lacteos",
          "Categorias/lacteos",
          "Categorias/verduras",
          "Categorias/verduras",
          "Categorias/verduras",
          "Categorias/verduras",
          "Categorias",
          "Categorias",
          "Categorias",
          "Categorias",
          "Categorias",
          "Categorias",
          "Categorias",
          ""
         ],
         "type": "treemap",
         "values": {
          "bdata": "AAAAAADwXkAfhetRuMp7QArXo3A9CkFAAAAAAAAAAAAAAAAAAFCEQAAAAAAAAAAAZmZmZmZGXUAAAAAAAAAAAAAAAAAAAAAAUrgehevdekAAAAAAAIhvQAAAAAAAAAAAAAAAAAAAAAAAAAAAAAAAAAAAAAAAAAAAAAAAAAAAAAAAAAAAAAAAAAAAAAAAAAAAAAAAAAAAAAAAAAAAAAAAAPYoXI/ClUtAAAAAAAAAAACF61G4HrVXQAAAAAAAAAAAAAAAAAAAAAAAAAAAAAAAAAAAAAAAAAAAzczMzMzcWUCkcD0K1yNWQHsUrkfhZoVA4XoUrkeFdUAAAAAAAAhzQAAAAAAA2IhAAAAAAAAAAAAAAAAAAAAAAAAAAAAAAAAAAAAAAAAAAAAAAAAAAAAAAAAAAAAAAAAAAAAAAAAAAAAAAAAAAAAAAAAAAAAAAAAAAAAAAAAAAAAAAAAAAABpQAAAAAAAAAAAAAAAAAAAAAAAAAAAAAAAAHE9Ctej3HpAAAAAAABYdkB7FK5H4YpiQHE9CtejCGFAAAAAAAAAAAAAAAAAAAAAAAAAAAAAAAAAAAAAAADYjUAAAAAAAIAzQAAAAAAAAAAAAAAAAAAAAAAAAAAAAAAAAAAAAAAAAAAAAAAAAAAAAAAAAAAAAIhkQAAAAAAAAAAAAAAAAACAUUDD9Shcj4J8QAAAAAAAAAAAAAAAAAAAAAAAAAAAABCBQAAAAAAAAAAAAAAAAAAAAAAAAAAAAAAAAAAAAAAAAAAAAAAAAAAAAAAAAAAAAAAAAAAAAAAAAAAAAAAAAAAAAAAAAAAAAAAAAAAAAAAAAAAAAAAAAAAAAAAAAAAAAAAAAAAAAAAAAAAAAAAAAAAAAAAAAAAAAAAAAOF6FK5H4RFAUrgehetRMEAAAAAAAAAAAAAAAAAAAAAAAAAAAAAAAAAAAAAAAAAAAAAAAAAAAAAAAAAAAAAAAABSuB6F61H8PwAAAAAAAAAAZmZmZmYui0AAAAAAAAAAAAAAAAAAAAAAAAAAAAAAAAAAAAAAAAAAAAAAAAAAAAAAAAAAAACwYkAAAAAAAAAAADMzMzMzsyVAAAAAAAAAAAAAAAAAAFBwQAAAAAAAAAAAAAAAAAAAAAAAAAAAAAAAAAAAAAAAAAAAAAAAAAAAAAAAAAAAAAAAAAAAAAAAAAAAAAAAAAAAAABSuB6Fa6qxQAAAAAAAAGlAhutRuJ6lqUAAAAAAAAAAAAAAAAAAAAAApHA9CteGlEAAAAAAAAAAAB+F61F4M8JA",
          "dtype": "f8"
         }
        }
       ],
       "layout": {
        "coloraxis": {
         "colorbar": {
          "title": {
           "text": "Desvio Padrão"
          }
         },
         "colorscale": [
          [
           0,
           "rgb(255,245,240)"
          ],
          [
           0.125,
           "rgb(254,224,210)"
          ],
          [
           0.25,
           "rgb(252,187,161)"
          ],
          [
           0.375,
           "rgb(252,146,114)"
          ],
          [
           0.5,
           "rgb(251,106,74)"
          ],
          [
           0.625,
           "rgb(239,59,44)"
          ],
          [
           0.75,
           "rgb(203,24,29)"
          ],
          [
           0.875,
           "rgb(165,15,21)"
          ],
          [
           1,
           "rgb(103,0,13)"
          ]
         ]
        },
        "legend": {
         "tracegroupgap": 0
        },
        "margin": {
         "b": 25,
         "l": 25,
         "r": 25,
         "t": 50
        },
        "template": {
         "data": {
          "bar": [
           {
            "error_x": {
             "color": "#2a3f5f"
            },
            "error_y": {
             "color": "#2a3f5f"
            },
            "marker": {
             "line": {
              "color": "#E5ECF6",
              "width": 0.5
             },
             "pattern": {
              "fillmode": "overlay",
              "size": 10,
              "solidity": 0.2
             }
            },
            "type": "bar"
           }
          ],
          "barpolar": [
           {
            "marker": {
             "line": {
              "color": "#E5ECF6",
              "width": 0.5
             },
             "pattern": {
              "fillmode": "overlay",
              "size": 10,
              "solidity": 0.2
             }
            },
            "type": "barpolar"
           }
          ],
          "carpet": [
           {
            "aaxis": {
             "endlinecolor": "#2a3f5f",
             "gridcolor": "white",
             "linecolor": "white",
             "minorgridcolor": "white",
             "startlinecolor": "#2a3f5f"
            },
            "baxis": {
             "endlinecolor": "#2a3f5f",
             "gridcolor": "white",
             "linecolor": "white",
             "minorgridcolor": "white",
             "startlinecolor": "#2a3f5f"
            },
            "type": "carpet"
           }
          ],
          "choropleth": [
           {
            "colorbar": {
             "outlinewidth": 0,
             "ticks": ""
            },
            "type": "choropleth"
           }
          ],
          "contour": [
           {
            "colorbar": {
             "outlinewidth": 0,
             "ticks": ""
            },
            "colorscale": [
             [
              0,
              "#0d0887"
             ],
             [
              0.1111111111111111,
              "#46039f"
             ],
             [
              0.2222222222222222,
              "#7201a8"
             ],
             [
              0.3333333333333333,
              "#9c179e"
             ],
             [
              0.4444444444444444,
              "#bd3786"
             ],
             [
              0.5555555555555556,
              "#d8576b"
             ],
             [
              0.6666666666666666,
              "#ed7953"
             ],
             [
              0.7777777777777778,
              "#fb9f3a"
             ],
             [
              0.8888888888888888,
              "#fdca26"
             ],
             [
              1,
              "#f0f921"
             ]
            ],
            "type": "contour"
           }
          ],
          "contourcarpet": [
           {
            "colorbar": {
             "outlinewidth": 0,
             "ticks": ""
            },
            "type": "contourcarpet"
           }
          ],
          "heatmap": [
           {
            "colorbar": {
             "outlinewidth": 0,
             "ticks": ""
            },
            "colorscale": [
             [
              0,
              "#0d0887"
             ],
             [
              0.1111111111111111,
              "#46039f"
             ],
             [
              0.2222222222222222,
              "#7201a8"
             ],
             [
              0.3333333333333333,
              "#9c179e"
             ],
             [
              0.4444444444444444,
              "#bd3786"
             ],
             [
              0.5555555555555556,
              "#d8576b"
             ],
             [
              0.6666666666666666,
              "#ed7953"
             ],
             [
              0.7777777777777778,
              "#fb9f3a"
             ],
             [
              0.8888888888888888,
              "#fdca26"
             ],
             [
              1,
              "#f0f921"
             ]
            ],
            "type": "heatmap"
           }
          ],
          "histogram": [
           {
            "marker": {
             "pattern": {
              "fillmode": "overlay",
              "size": 10,
              "solidity": 0.2
             }
            },
            "type": "histogram"
           }
          ],
          "histogram2d": [
           {
            "colorbar": {
             "outlinewidth": 0,
             "ticks": ""
            },
            "colorscale": [
             [
              0,
              "#0d0887"
             ],
             [
              0.1111111111111111,
              "#46039f"
             ],
             [
              0.2222222222222222,
              "#7201a8"
             ],
             [
              0.3333333333333333,
              "#9c179e"
             ],
             [
              0.4444444444444444,
              "#bd3786"
             ],
             [
              0.5555555555555556,
              "#d8576b"
             ],
             [
              0.6666666666666666,
              "#ed7953"
             ],
             [
              0.7777777777777778,
              "#fb9f3a"
             ],
             [
              0.8888888888888888,
              "#fdca26"
             ],
             [
              1,
              "#f0f921"
             ]
            ],
            "type": "histogram2d"
           }
          ],
          "histogram2dcontour": [
           {
            "colorbar": {
             "outlinewidth": 0,
             "ticks": ""
            },
            "colorscale": [
             [
              0,
              "#0d0887"
             ],
             [
              0.1111111111111111,
              "#46039f"
             ],
             [
              0.2222222222222222,
              "#7201a8"
             ],
             [
              0.3333333333333333,
              "#9c179e"
             ],
             [
              0.4444444444444444,
              "#bd3786"
             ],
             [
              0.5555555555555556,
              "#d8576b"
             ],
             [
              0.6666666666666666,
              "#ed7953"
             ],
             [
              0.7777777777777778,
              "#fb9f3a"
             ],
             [
              0.8888888888888888,
              "#fdca26"
             ],
             [
              1,
              "#f0f921"
             ]
            ],
            "type": "histogram2dcontour"
           }
          ],
          "mesh3d": [
           {
            "colorbar": {
             "outlinewidth": 0,
             "ticks": ""
            },
            "type": "mesh3d"
           }
          ],
          "parcoords": [
           {
            "line": {
             "colorbar": {
              "outlinewidth": 0,
              "ticks": ""
             }
            },
            "type": "parcoords"
           }
          ],
          "pie": [
           {
            "automargin": true,
            "type": "pie"
           }
          ],
          "scatter": [
           {
            "fillpattern": {
             "fillmode": "overlay",
             "size": 10,
             "solidity": 0.2
            },
            "type": "scatter"
           }
          ],
          "scatter3d": [
           {
            "line": {
             "colorbar": {
              "outlinewidth": 0,
              "ticks": ""
             }
            },
            "marker": {
             "colorbar": {
              "outlinewidth": 0,
              "ticks": ""
             }
            },
            "type": "scatter3d"
           }
          ],
          "scattercarpet": [
           {
            "marker": {
             "colorbar": {
              "outlinewidth": 0,
              "ticks": ""
             }
            },
            "type": "scattercarpet"
           }
          ],
          "scattergeo": [
           {
            "marker": {
             "colorbar": {
              "outlinewidth": 0,
              "ticks": ""
             }
            },
            "type": "scattergeo"
           }
          ],
          "scattergl": [
           {
            "marker": {
             "colorbar": {
              "outlinewidth": 0,
              "ticks": ""
             }
            },
            "type": "scattergl"
           }
          ],
          "scattermap": [
           {
            "marker": {
             "colorbar": {
              "outlinewidth": 0,
              "ticks": ""
             }
            },
            "type": "scattermap"
           }
          ],
          "scattermapbox": [
           {
            "marker": {
             "colorbar": {
              "outlinewidth": 0,
              "ticks": ""
             }
            },
            "type": "scattermapbox"
           }
          ],
          "scatterpolar": [
           {
            "marker": {
             "colorbar": {
              "outlinewidth": 0,
              "ticks": ""
             }
            },
            "type": "scatterpolar"
           }
          ],
          "scatterpolargl": [
           {
            "marker": {
             "colorbar": {
              "outlinewidth": 0,
              "ticks": ""
             }
            },
            "type": "scatterpolargl"
           }
          ],
          "scatterternary": [
           {
            "marker": {
             "colorbar": {
              "outlinewidth": 0,
              "ticks": ""
             }
            },
            "type": "scatterternary"
           }
          ],
          "surface": [
           {
            "colorbar": {
             "outlinewidth": 0,
             "ticks": ""
            },
            "colorscale": [
             [
              0,
              "#0d0887"
             ],
             [
              0.1111111111111111,
              "#46039f"
             ],
             [
              0.2222222222222222,
              "#7201a8"
             ],
             [
              0.3333333333333333,
              "#9c179e"
             ],
             [
              0.4444444444444444,
              "#bd3786"
             ],
             [
              0.5555555555555556,
              "#d8576b"
             ],
             [
              0.6666666666666666,
              "#ed7953"
             ],
             [
              0.7777777777777778,
              "#fb9f3a"
             ],
             [
              0.8888888888888888,
              "#fdca26"
             ],
             [
              1,
              "#f0f921"
             ]
            ],
            "type": "surface"
           }
          ],
          "table": [
           {
            "cells": {
             "fill": {
              "color": "#EBF0F8"
             },
             "line": {
              "color": "white"
             }
            },
            "header": {
             "fill": {
              "color": "#C8D4E3"
             },
             "line": {
              "color": "white"
             }
            },
            "type": "table"
           }
          ]
         },
         "layout": {
          "annotationdefaults": {
           "arrowcolor": "#2a3f5f",
           "arrowhead": 0,
           "arrowwidth": 1
          },
          "autotypenumbers": "strict",
          "coloraxis": {
           "colorbar": {
            "outlinewidth": 0,
            "ticks": ""
           }
          },
          "colorscale": {
           "diverging": [
            [
             0,
             "#8e0152"
            ],
            [
             0.1,
             "#c51b7d"
            ],
            [
             0.2,
             "#de77ae"
            ],
            [
             0.3,
             "#f1b6da"
            ],
            [
             0.4,
             "#fde0ef"
            ],
            [
             0.5,
             "#f7f7f7"
            ],
            [
             0.6,
             "#e6f5d0"
            ],
            [
             0.7,
             "#b8e186"
            ],
            [
             0.8,
             "#7fbc41"
            ],
            [
             0.9,
             "#4d9221"
            ],
            [
             1,
             "#276419"
            ]
           ],
           "sequential": [
            [
             0,
             "#0d0887"
            ],
            [
             0.1111111111111111,
             "#46039f"
            ],
            [
             0.2222222222222222,
             "#7201a8"
            ],
            [
             0.3333333333333333,
             "#9c179e"
            ],
            [
             0.4444444444444444,
             "#bd3786"
            ],
            [
             0.5555555555555556,
             "#d8576b"
            ],
            [
             0.6666666666666666,
             "#ed7953"
            ],
            [
             0.7777777777777778,
             "#fb9f3a"
            ],
            [
             0.8888888888888888,
             "#fdca26"
            ],
            [
             1,
             "#f0f921"
            ]
           ],
           "sequentialminus": [
            [
             0,
             "#0d0887"
            ],
            [
             0.1111111111111111,
             "#46039f"
            ],
            [
             0.2222222222222222,
             "#7201a8"
            ],
            [
             0.3333333333333333,
             "#9c179e"
            ],
            [
             0.4444444444444444,
             "#bd3786"
            ],
            [
             0.5555555555555556,
             "#d8576b"
            ],
            [
             0.6666666666666666,
             "#ed7953"
            ],
            [
             0.7777777777777778,
             "#fb9f3a"
            ],
            [
             0.8888888888888888,
             "#fdca26"
            ],
            [
             1,
             "#f0f921"
            ]
           ]
          },
          "colorway": [
           "#636efa",
           "#EF553B",
           "#00cc96",
           "#ab63fa",
           "#FFA15A",
           "#19d3f3",
           "#FF6692",
           "#B6E880",
           "#FF97FF",
           "#FECB52"
          ],
          "font": {
           "color": "#2a3f5f"
          },
          "geo": {
           "bgcolor": "white",
           "lakecolor": "white",
           "landcolor": "#E5ECF6",
           "showlakes": true,
           "showland": true,
           "subunitcolor": "white"
          },
          "hoverlabel": {
           "align": "left"
          },
          "hovermode": "closest",
          "mapbox": {
           "style": "light"
          },
          "paper_bgcolor": "white",
          "plot_bgcolor": "#E5ECF6",
          "polar": {
           "angularaxis": {
            "gridcolor": "white",
            "linecolor": "white",
            "ticks": ""
           },
           "bgcolor": "#E5ECF6",
           "radialaxis": {
            "gridcolor": "white",
            "linecolor": "white",
            "ticks": ""
           }
          },
          "scene": {
           "xaxis": {
            "backgroundcolor": "#E5ECF6",
            "gridcolor": "white",
            "gridwidth": 2,
            "linecolor": "white",
            "showbackground": true,
            "ticks": "",
            "zerolinecolor": "white"
           },
           "yaxis": {
            "backgroundcolor": "#E5ECF6",
            "gridcolor": "white",
            "gridwidth": 2,
            "linecolor": "white",
            "showbackground": true,
            "ticks": "",
            "zerolinecolor": "white"
           },
           "zaxis": {
            "backgroundcolor": "#E5ECF6",
            "gridcolor": "white",
            "gridwidth": 2,
            "linecolor": "white",
            "showbackground": true,
            "ticks": "",
            "zerolinecolor": "white"
           }
          },
          "shapedefaults": {
           "line": {
            "color": "#2a3f5f"
           }
          },
          "ternary": {
           "aaxis": {
            "gridcolor": "white",
            "linecolor": "white",
            "ticks": ""
           },
           "baxis": {
            "gridcolor": "white",
            "linecolor": "white",
            "ticks": ""
           },
           "bgcolor": "#E5ECF6",
           "caxis": {
            "gridcolor": "white",
            "linecolor": "white",
            "ticks": ""
           }
          },
          "title": {
           "x": 0.05
          },
          "xaxis": {
           "automargin": true,
           "gridcolor": "white",
           "linecolor": "white",
           "ticks": "",
           "title": {
            "standoff": 15
           },
           "zerolinecolor": "white",
           "zerolinewidth": 2
          },
          "yaxis": {
           "automargin": true,
           "gridcolor": "white",
           "linecolor": "white",
           "ticks": "",
           "title": {
            "standoff": 15
           },
           "zerolinecolor": "white",
           "zerolinewidth": 2
          }
         }
        },
        "title": {
         "text": "Desconto médio por categoria e marca"
        }
       }
      }
     },
     "metadata": {},
     "output_type": "display_data"
    }
   ],
   "source": [
    "fig = px.treemap(tdf.reset_index(), path=[px.Constant(\"Categorias\"), \"Categoria\", \"Marca\"], \n",
    "                 values=\"Desconto Médio (R$)\", color=\"Desvio Padrão\", color_continuous_scale=\"Reds\", \n",
    "                 title=\"Desconto médio por categoria e marca\",\n",
    "                 hover_data=[\"Quantidade de Produtos\"])\n",
    "\n",
    "fig.update_traces(marker={\"cornerradius\": 5})\n",
    "fig.update_layout(margin = dict(t=50, l=25, r=25, b=25))\n",
    "fig.data[0].hovertemplate = (\n",
    "    \"Desconto médio: R$ %{value:.2f}<br>\" +\n",
    "    \"Desvio padrão: R$ %{color:.2f}<br>\" +\n",
    "    \"Quantidade de produtos: %{customdata[0]}<extra></extra>\"\n",
    ")\n",
    "fig.show()"
   ]
  }
 ],
 "metadata": {
  "colab": {
   "provenance": []
  },
  "kernelspec": {
   "display_name": ".venv",
   "language": "python",
   "name": "python3"
  },
  "language_info": {
   "codemirror_mode": {
    "name": "ipython",
    "version": 3
   },
   "file_extension": ".py",
   "mimetype": "text/x-python",
   "name": "python",
   "nbconvert_exporter": "python",
   "pygments_lexer": "ipython3",
   "version": "3.10.17"
  }
 },
 "nbformat": 4,
 "nbformat_minor": 0
}
